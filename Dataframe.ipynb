{
  "nbformat": 4,
  "nbformat_minor": 0,
  "metadata": {
    "kernelspec": {
      "display_name": "Python 3",
      "language": "python",
      "name": "python3"
    },
    "language_info": {
      "codemirror_mode": {
        "name": "ipython",
        "version": 3
      },
      "file_extension": ".py",
      "mimetype": "text/x-python",
      "name": "python",
      "nbconvert_exporter": "python",
      "pygments_lexer": "ipython3",
      "version": "3.7.0"
    },
    "colab": {
      "name": "Dataframe.ipynb",
      "provenance": [],
      "toc_visible": true
    }
  },
  "cells": [
    {
      "cell_type": "code",
      "metadata": {
        "colab": {
          "base_uri": "https://localhost:8080/"
        },
        "id": "hDMSKjxT_sxE",
        "outputId": "3ed1322b-3781-471e-bf08-a463b43dd501"
      },
      "source": [
        "pip install pyspark"
      ],
      "execution_count": 24,
      "outputs": [
        {
          "output_type": "stream",
          "text": [
            "Requirement already satisfied: pyspark in /usr/local/lib/python3.6/dist-packages (3.0.1)\n",
            "Requirement already satisfied: py4j==0.10.9 in /usr/local/lib/python3.6/dist-packages (from pyspark) (0.10.9)\n"
          ],
          "name": "stdout"
        }
      ]
    },
    {
      "cell_type": "code",
      "metadata": {
        "id": "hDivAPMY_JUz"
      },
      "source": [
        "import pyspark\n",
        "from pyspark import SparkContext as sc"
      ],
      "execution_count": 25,
      "outputs": []
    },
    {
      "cell_type": "markdown",
      "metadata": {
        "id": "HpP7Pa1S_JU0"
      },
      "source": [
        "### Tạo `SparkSession` "
      ]
    },
    {
      "cell_type": "code",
      "metadata": {
        "id": "OTu2PnTZ_JU1"
      },
      "source": [
        "from pyspark.sql import SparkSession"
      ],
      "execution_count": 26,
      "outputs": []
    },
    {
      "cell_type": "code",
      "metadata": {
        "id": "BCplYdyi_JU1"
      },
      "source": [
        "spark1 = SparkSession.builder.appName('Basics').getOrCreate()"
      ],
      "execution_count": 27,
      "outputs": []
    },
    {
      "cell_type": "markdown",
      "metadata": {
        "id": "Yimv7fOL_JU2"
      },
      "source": [
        "\r\n",
        "### Đọc file Json"
      ]
    },
    {
      "cell_type": "code",
      "metadata": {
        "id": "VvORINt__JU2"
      },
      "source": [
        "df = spark1.read.json('people.json')"
      ],
      "execution_count": 28,
      "outputs": []
    },
    {
      "cell_type": "markdown",
      "metadata": {
        "id": "W2zTNRdR_JU3"
      },
      "source": [
        "#### Chỉ biểu diễn dưới dạng cột"
      ]
    },
    {
      "cell_type": "code",
      "metadata": {
        "colab": {
          "base_uri": "https://localhost:8080/"
        },
        "id": "erTcTFZn_JU3",
        "outputId": "7ccaab7b-fe10-4a36-f888-3f037c6cbc60"
      },
      "source": [
        "df"
      ],
      "execution_count": 29,
      "outputs": [
        {
          "output_type": "execute_result",
          "data": {
            "text/plain": [
              "DataFrame[age: bigint, name: string]"
            ]
          },
          "metadata": {
            "tags": []
          },
          "execution_count": 29
        }
      ]
    },
    {
      "cell_type": "markdown",
      "metadata": {
        "id": "hMGdhTeM_JU5"
      },
      "source": [
        "#### show() dùng để hiển thị"
      ]
    },
    {
      "cell_type": "code",
      "metadata": {
        "colab": {
          "base_uri": "https://localhost:8080/"
        },
        "id": "rlp7mFlz_JU5",
        "outputId": "cb4030b6-e4ef-421b-a455-5b964a42505a"
      },
      "source": [
        "df.show()"
      ],
      "execution_count": 30,
      "outputs": [
        {
          "output_type": "stream",
          "text": [
            "+----+-----+\n",
            "| age| name|\n",
            "+----+-----+\n",
            "|null|tommy|\n",
            "|  30| Long|\n",
            "|  19| Truc|\n",
            "+----+-----+\n",
            "\n"
          ],
          "name": "stdout"
        }
      ]
    },
    {
      "cell_type": "markdown",
      "metadata": {
        "id": "-hV7z_lt_JU6"
      },
      "source": [
        "### The data schema\n",
        "Dùng để hiển thị schema của data . Nó chấp nhận cả trường hợp null"
      ]
    },
    {
      "cell_type": "code",
      "metadata": {
        "colab": {
          "base_uri": "https://localhost:8080/"
        },
        "id": "EtvQec6P_JU6",
        "outputId": "a3e4bae1-f67e-417e-eae9-be73123ceeef"
      },
      "source": [
        "df.printSchema()"
      ],
      "execution_count": 31,
      "outputs": [
        {
          "output_type": "stream",
          "text": [
            "root\n",
            " |-- age: long (nullable = true)\n",
            " |-- name: string (nullable = true)\n",
            "\n"
          ],
          "name": "stdout"
        }
      ]
    },
    {
      "cell_type": "markdown",
      "metadata": {
        "id": "ZNc-IG_B_JU6"
      },
      "source": [
        "#### Lấy tên cột dưới dạng list bằng columns"
      ]
    },
    {
      "cell_type": "code",
      "metadata": {
        "colab": {
          "base_uri": "https://localhost:8080/"
        },
        "id": "7C35Yh12_JU7",
        "outputId": "4672ceda-90cc-4d91-d6d0-b08fcad08d6e"
      },
      "source": [
        "df.columns"
      ],
      "execution_count": 32,
      "outputs": [
        {
          "output_type": "execute_result",
          "data": {
            "text/plain": [
              "['age', 'name']"
            ]
          },
          "metadata": {
            "tags": []
          },
          "execution_count": 32
        }
      ]
    },
    {
      "cell_type": "markdown",
      "metadata": {
        "id": "PHqTA5Ug_JU7"
      },
      "source": [
        "### The `describe` and `summary` methods\n",
        "trả về tóm tắt, thống kê của dataframe"
      ]
    },
    {
      "cell_type": "code",
      "metadata": {
        "colab": {
          "base_uri": "https://localhost:8080/"
        },
        "id": "NK7zVfc9_JU7",
        "outputId": "7bdbbe5e-a604-448f-8e97-8fd1836ffe87"
      },
      "source": [
        "df.describe()"
      ],
      "execution_count": 33,
      "outputs": [
        {
          "output_type": "execute_result",
          "data": {
            "text/plain": [
              "DataFrame[summary: string, age: string, name: string]"
            ]
          },
          "metadata": {
            "tags": []
          },
          "execution_count": 33
        }
      ]
    },
    {
      "cell_type": "markdown",
      "metadata": {
        "id": "mlcKPl8Y_JU8"
      },
      "source": [
        "gọi show lần nữa"
      ]
    },
    {
      "cell_type": "code",
      "metadata": {
        "colab": {
          "base_uri": "https://localhost:8080/"
        },
        "id": "uCb-stBb_JU8",
        "outputId": "21f7047c-f584-4006-a8aa-99173f0c389a"
      },
      "source": [
        "df.describe().show()"
      ],
      "execution_count": 34,
      "outputs": [
        {
          "output_type": "stream",
          "text": [
            "+-------+------------------+-----+\n",
            "|summary|               age| name|\n",
            "+-------+------------------+-----+\n",
            "|  count|                 2|    3|\n",
            "|   mean|              24.5| null|\n",
            "| stddev|7.7781745930520225| null|\n",
            "|    min|                19| Long|\n",
            "|    max|                30|tommy|\n",
            "+-------+------------------+-----+\n",
            "\n"
          ],
          "name": "stdout"
        }
      ]
    },
    {
      "cell_type": "markdown",
      "metadata": {
        "id": "uH6IqkMS_JU8"
      },
      "source": [
        "#### sumary()\r\n"
      ]
    },
    {
      "cell_type": "code",
      "metadata": {
        "colab": {
          "base_uri": "https://localhost:8080/"
        },
        "id": "MUgjchxO_JU9",
        "outputId": "56a90946-1af8-4bad-a3e8-3ddd747bdfd7"
      },
      "source": [
        "df.summary().show()"
      ],
      "execution_count": 35,
      "outputs": [
        {
          "output_type": "stream",
          "text": [
            "+-------+------------------+-----+\n",
            "|summary|               age| name|\n",
            "+-------+------------------+-----+\n",
            "|  count|                 2|    3|\n",
            "|   mean|              24.5| null|\n",
            "| stddev|7.7781745930520225| null|\n",
            "|    min|                19| Long|\n",
            "|    25%|                19| null|\n",
            "|    50%|                19| null|\n",
            "|    75%|                30| null|\n",
            "|    max|                30|tommy|\n",
            "+-------+------------------+-----+\n",
            "\n"
          ],
          "name": "stdout"
        }
      ]
    },
    {
      "cell_type": "markdown",
      "metadata": {
        "id": "IJ9jtVr8_JU_"
      },
      "source": [
        "### The `take` and `collect` methods to read/collect rows\n",
        "\n",
        "Các phương thức này trả về một số hoặc tất cả các hàng dưới dạng list"
      ]
    },
    {
      "cell_type": "code",
      "metadata": {
        "colab": {
          "base_uri": "https://localhost:8080/"
        },
        "id": "w9UjxRZU_JVA",
        "outputId": "94ca6ca6-f95c-406f-a20c-f6f381add0dd"
      },
      "source": [
        "df.take(2)"
      ],
      "execution_count": 36,
      "outputs": [
        {
          "output_type": "execute_result",
          "data": {
            "text/plain": [
              "[Row(age=None, name='tommy'), Row(age=30, name='Long')]"
            ]
          },
          "metadata": {
            "tags": []
          },
          "execution_count": 36
        }
      ]
    },
    {
      "cell_type": "code",
      "metadata": {
        "colab": {
          "base_uri": "https://localhost:8080/"
        },
        "id": "USgIPMZC_JVA",
        "outputId": "7b153e67-5d07-4e38-f218-639c01803701"
      },
      "source": [
        "df.collect()"
      ],
      "execution_count": 37,
      "outputs": [
        {
          "output_type": "execute_result",
          "data": {
            "text/plain": [
              "[Row(age=None, name='tommy'),\n",
              " Row(age=30, name='Long'),\n",
              " Row(age=19, name='Truc')]"
            ]
          },
          "metadata": {
            "tags": []
          },
          "execution_count": 37
        }
      ]
    },
    {
      "cell_type": "markdown",
      "metadata": {
        "id": "TisgcvfH_JVB"
      },
      "source": [
        "###Xác định lược đồ dữ liệu của riêng bạn\n",
        "Nhập các kiểu dữ liệu và kiểu cấu trúc để tự xây dựng lược đồ dữ liệu"
      ]
    },
    {
      "cell_type": "code",
      "metadata": {
        "id": "5hvwbT20_JVB"
      },
      "source": [
        "from pyspark.sql.types import StructField, IntegerType, StringType, StructType"
      ],
      "execution_count": 38,
      "outputs": []
    },
    {
      "cell_type": "markdown",
      "metadata": {
        "id": "-_PQOTMK_JVB"
      },
      "source": [
        "Xác định lược đồ dữ liệu của bạn bằng cách cung cấp tên và kiểu dữ liệu cho structure fields mà bạn sẽ nhập. Nó sẽ là một Python list đơn giản gồm các đối tượng `StructField`. Bạn phải sử dụng các kiểu dữ liệu Spark như `IntegerType` và` StringType`."
      ]
    },
    {
      "cell_type": "code",
      "metadata": {
        "id": "2CVn3FkV_JVB"
      },
      "source": [
        "data_schema = [StructField('age',IntegerType(),True),\n",
        "StructField('name',StringType(),True)]"
      ],
      "execution_count": 39,
      "outputs": []
    },
    {
      "cell_type": "markdown",
      "metadata": {
        "id": "twv4fxTj_JVC"
      },
      "source": [
        "tạo 1 đối tượng `StrucType`  gọi `final_struc` với schema as field"
      ]
    },
    {
      "cell_type": "code",
      "metadata": {
        "id": "F9aKM2EW_JVC"
      },
      "source": [
        "final_struc = StructType(fields=data_schema)"
      ],
      "execution_count": 40,
      "outputs": []
    },
    {
      "cell_type": "markdown",
      "metadata": {
        "id": "tsHIMLon_JVC"
      },
      "source": [
        "đọc JSON với new schema `final_struc`"
      ]
    },
    {
      "cell_type": "code",
      "metadata": {
        "colab": {
          "base_uri": "https://localhost:8080/"
        },
        "id": "iP6xSzUn_JVC",
        "outputId": "3d2fb793-386b-4871-a797-23fb7d6ac8f3"
      },
      "source": [
        "df = spark1.read.json('people.json',schema=final_struc)\n",
        "df.show()"
      ],
      "execution_count": 41,
      "outputs": [
        {
          "output_type": "stream",
          "text": [
            "+----+-----+\n",
            "| age| name|\n",
            "+----+-----+\n",
            "|null|tommy|\n",
            "|  30| Long|\n",
            "|  19| Truc|\n",
            "+----+-----+\n",
            "\n"
          ],
          "name": "stdout"
        }
      ]
    },
    {
      "cell_type": "markdown",
      "metadata": {
        "id": "0vHLbhGa_JVD"
      },
      "source": [
        "Bây giờ khi bạn print the shema, ** bạn sẽ thấy rằng `age` được đọc là` int` chứ không phải là `long` **. Theo mặc định, Spark không thể tìm ra kiểu dữ liệu chính xác cho column này mà bạn muốn, vì vậy nó đi kèm với `long`. Nhưng đây là cách bạn có thể xây dựng lược đồ của riêng mình và hướng dẫn Spark đọc dữ liệu liên tục."
      ]
    }
  ]
}