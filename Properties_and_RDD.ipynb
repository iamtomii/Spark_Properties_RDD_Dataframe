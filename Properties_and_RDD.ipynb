{
  "nbformat": 4,
  "nbformat_minor": 0,
  "metadata": {
    "colab": {
      "name": "Properties and RDD.ipynb",
      "provenance": []
    },
    "kernelspec": {
      "name": "python3",
      "display_name": "Python 3"
    }
  },
  "cells": [
    {
      "cell_type": "code",
      "metadata": {
        "colab": {
          "base_uri": "https://localhost:8080/"
        },
        "id": "IbT_A2AyoN2m",
        "outputId": "0fb7c97b-76fa-4b3a-8d80-d72c58fa350b"
      },
      "source": [
        "pip install pyspark"
      ],
      "execution_count": 17,
      "outputs": [
        {
          "output_type": "stream",
          "text": [
            "Requirement already satisfied: pyspark in /usr/local/lib/python3.6/dist-packages (3.0.1)\n",
            "Requirement already satisfied: py4j==0.10.9 in /usr/local/lib/python3.6/dist-packages (from pyspark) (0.10.9)\n"
          ],
          "name": "stdout"
        }
      ]
    },
    {
      "cell_type": "code",
      "metadata": {
        "id": "WOy9piv5oP29"
      },
      "source": [
        "#spark Properties\r\n",
        "from pyspark.sql import SparkSession\r\n",
        "spark= SparkSession.builder.master(\"local[*]\").appName('Customers').getOrCreate()\r\n",
        "from pyspark import SparkConf, SparkContext\r\n",
        "import collections"
      ],
      "execution_count": 18,
      "outputs": []
    },
    {
      "cell_type": "code",
      "metadata": {
        "id": "9HmwtWDooP-A"
      },
      "source": [
        "conf= SparkConf().setMaster(\"local\").setAppName(\"word couting\")\r\n",
        "sc = SparkContext.getOrCreate(conf=conf)"
      ],
      "execution_count": 19,
      "outputs": []
    },
    {
      "cell_type": "code",
      "metadata": {
        "id": "j1RXeF8FhmBT",
        "colab": {
          "base_uri": "https://localhost:8080/"
        },
        "outputId": "7369e428-7de7-4985-a065-10f2c1fd4691"
      },
      "source": [
        "#Chuyển RDD thành list bằng parallelize\r\n",
        "textRDD = sc.parallelize([\r\n",
        "    \"tui có tờ vé số là 18 12 00 98\", \r\n",
        "    \"tớ 21 tuổi rồi.\",\r\n",
        "    \"đi phía trước rẽ trái rồi đi thêm 200 mét.\"\r\n",
        "])\r\n",
        "#chúng ta có thể chuyển ngược lại bằng collect() tuy nhiên nên chú ý kích thước\r\n",
        "textRDD.collect()"
      ],
      "execution_count": 20,
      "outputs": [
        {
          "output_type": "execute_result",
          "data": {
            "text/plain": [
              "['tui có tờ vé số là 18 12 00 98',\n",
              " 'tớ 21 tuổi rồi.',\n",
              " 'đi phía trước rẽ trái rồi đi thêm 200 mét.']"
            ]
          },
          "metadata": {
            "tags": []
          },
          "execution_count": 20
        }
      ]
    },
    {
      "cell_type": "code",
      "metadata": {
        "id": "-6RoA9itsH0M",
        "colab": {
          "base_uri": "https://localhost:8080/"
        },
        "outputId": "eca3f0a3-bfda-4425-d420-51c5d8be2a84"
      },
      "source": [
        "#Một số chức năng khác:\r\n",
        "#count() trả về số phần tử trong RDD\r\n",
        "print(\"RDD size: %s\" % textRDD.count())"
      ],
      "execution_count": 21,
      "outputs": [
        {
          "output_type": "stream",
          "text": [
            "RDD size: 3\n"
          ],
          "name": "stdout"
        }
      ]
    },
    {
      "cell_type": "code",
      "metadata": {
        "id": "xsXKZHuRsYkA",
        "colab": {
          "base_uri": "https://localhost:8080/"
        },
        "outputId": "0ee27672-5383-4fb8-afe1-9a357457fe3f"
      },
      "source": [
        "#first Lấy phần tử đầu tiên\r\n",
        "print(\"RDD first element: %s\" % textRDD.first())"
      ],
      "execution_count": 22,
      "outputs": [
        {
          "output_type": "stream",
          "text": [
            "RDD first element: tui có tờ vé số là 18 12 00 98\n"
          ],
          "name": "stdout"
        }
      ]
    },
    {
      "cell_type": "code",
      "metadata": {
        "id": "I2v6rhI2sxSI",
        "colab": {
          "base_uri": "https://localhost:8080/"
        },
        "outputId": "33ec71d8-281d-4bdc-e09e-9dae4fa9c132"
      },
      "source": [
        "#take() lấy n phần tử đầu tiên dưới dang list\r\n",
        "print(\"RDD first 2 elements:  %s\" % textRDD.take(2))"
      ],
      "execution_count": 23,
      "outputs": [
        {
          "output_type": "stream",
          "text": [
            "RDD first 2 elements:  ['tui có tờ vé số là 18 12 00 98', 'tớ 21 tuổi rồi.']\n"
          ],
          "name": "stdout"
        }
      ]
    },
    {
      "cell_type": "code",
      "metadata": {
        "id": "f1Txfqfss9bn"
      },
      "source": [
        "#foreach áp dụng hàm cho từng phần tử RDD\r\n",
        "from __future__ import print_function\r\n",
        "textRDD.foreach(print)"
      ],
      "execution_count": 24,
      "outputs": []
    },
    {
      "cell_type": "code",
      "metadata": {
        "id": "7wB5EABLtPaG"
      },
      "source": [
        "#save RDD thành file text\r\n",
        "textRDD.saveAsTextFile('samples.txt')"
      ],
      "execution_count": 25,
      "outputs": []
    },
    {
      "cell_type": "code",
      "metadata": {
        "id": "yBgVEf2T0EK0",
        "colab": {
          "base_uri": "https://localhost:8080/"
        },
        "outputId": "db562f8d-50f4-4a21-e85b-9983c7860411"
      },
      "source": [
        "# đây là RDD ban đầu của chúng tôi - mỗi phần tử là một dòng văn bản\r\n",
        "textRDD.collect()\r\n"
      ],
      "execution_count": 26,
      "outputs": [
        {
          "output_type": "execute_result",
          "data": {
            "text/plain": [
              "['tui có tờ vé số là 18 12 00 98',\n",
              " 'tớ 21 tuổi rồi.',\n",
              " 'đi phía trước rẽ trái rồi đi thêm 200 mét.']"
            ]
          },
          "metadata": {
            "tags": []
          },
          "execution_count": 26
        }
      ]
    },
    {
      "cell_type": "code",
      "metadata": {
        "id": "y2jAhtyN0Zt9",
        "colab": {
          "base_uri": "https://localhost:8080/"
        },
        "outputId": "001f1db7-1308-4867-d12d-54d6d2ffcd1d"
      },
      "source": [
        "#đầu tiên chia từng dòng thành các token và kết hợp các token thành 1 RDD duy nhất (list)\r\n",
        "textRDD.flatMap(lambda line:line.split())"
      ],
      "execution_count": 27,
      "outputs": [
        {
          "output_type": "execute_result",
          "data": {
            "text/plain": [
              "PythonRDD[23] at RDD at PythonRDD.scala:53"
            ]
          },
          "metadata": {
            "tags": []
          },
          "execution_count": 27
        }
      ]
    },
    {
      "cell_type": "code",
      "metadata": {
        "id": "zBvwx5NH0sQz",
        "colab": {
          "base_uri": "https://localhost:8080/"
        },
        "outputId": "d4e5df58-248d-4a5b-88e3-2d91a4e263cf"
      },
      "source": [
        "\r\n",
        "textRDD \\\r\n",
        "    .flatMap(lambda line:line.split()) \\\r\n",
        "    .collect()"
      ],
      "execution_count": 28,
      "outputs": [
        {
          "output_type": "execute_result",
          "data": {
            "text/plain": [
              "['tui',\n",
              " 'có',\n",
              " 'tờ',\n",
              " 'vé',\n",
              " 'số',\n",
              " 'là',\n",
              " '18',\n",
              " '12',\n",
              " '00',\n",
              " '98',\n",
              " 'tớ',\n",
              " '21',\n",
              " 'tuổi',\n",
              " 'rồi.',\n",
              " 'đi',\n",
              " 'phía',\n",
              " 'trước',\n",
              " 'rẽ',\n",
              " 'trái',\n",
              " 'rồi',\n",
              " 'đi',\n",
              " 'thêm',\n",
              " '200',\n",
              " 'mét.']"
            ]
          },
          "metadata": {
            "tags": []
          },
          "execution_count": 28
        }
      ]
    },
    {
      "cell_type": "code",
      "metadata": {
        "id": "InP2aq693clP",
        "colab": {
          "base_uri": "https://localhost:8080/"
        },
        "outputId": "c032b505-bac6-4e14-e218-283956225e4b"
      },
      "source": [
        "import re\r\n",
        "# tạo rdd các phần tử là số\r\n",
        "def is_number(s):\r\n",
        "    return re.match(r'[0-9]+', s)\r\n",
        "textRDD.flatMap(lambda line:line.split()) \\\r\n",
        "    .filter(is_number) \\\r\n",
        "    .collect()"
      ],
      "execution_count": 29,
      "outputs": [
        {
          "output_type": "execute_result",
          "data": {
            "text/plain": [
              "['18', '12', '00', '98', '21', '200']"
            ]
          },
          "metadata": {
            "tags": []
          },
          "execution_count": 29
        }
      ]
    },
    {
      "cell_type": "code",
      "metadata": {
        "id": "s8Yhzs4W3zma",
        "colab": {
          "base_uri": "https://localhost:8080/"
        },
        "outputId": "36a9e1c1-e9c4-447c-ef58-9a7c12643f1a"
      },
      "source": [
        "#chuyển các số thành số int\r\n",
        "textRDD.flatMap(lambda line:line.split()) \\\r\n",
        "    .filter(is_number) \\\r\n",
        "    .map(int) \\\r\n",
        "    .collect()"
      ],
      "execution_count": 30,
      "outputs": [
        {
          "output_type": "execute_result",
          "data": {
            "text/plain": [
              "[18, 12, 0, 98, 21, 200]"
            ]
          },
          "metadata": {
            "tags": []
          },
          "execution_count": 30
        }
      ]
    },
    {
      "cell_type": "code",
      "metadata": {
        "id": "HB4MxAuS39l7",
        "colab": {
          "base_uri": "https://localhost:8080/"
        },
        "outputId": "57ae9e5a-c651-43cd-a8db-e371f30d6ab4"
      },
      "source": [
        "#cộng các phần tử lại vs nhau bằng reduce\r\n",
        "import operator\r\n",
        "textRDD.flatMap(lambda line:line.split()) \\\r\n",
        "    .filter(is_number) \\\r\n",
        "    .map(int) \\\r\n",
        "    .reduce(operator.add)"
      ],
      "execution_count": 31,
      "outputs": [
        {
          "output_type": "execute_result",
          "data": {
            "text/plain": [
              "349"
            ]
          },
          "metadata": {
            "tags": []
          },
          "execution_count": 31
        }
      ]
    }
  ]
}